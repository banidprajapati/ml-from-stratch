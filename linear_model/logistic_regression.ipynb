{
 "cells": [
  {
   "cell_type": "code",
   "execution_count": 122,
   "id": "f777cf1b",
   "metadata": {},
   "outputs": [],
   "source": [
    "import random\n",
    "import numpy as np\n",
    "import matplotlib.pyplot as plt"
   ]
  },
  {
   "cell_type": "code",
   "execution_count": 123,
   "id": "44cc143d",
   "metadata": {},
   "outputs": [],
   "source": [
    "# # 1. Generate some dummy linear data\n",
    "np.random.seed(42)\n",
    "X = np.linspace(0, 2, 100).reshape(-1, 1) "
   ]
  },
  {
   "cell_type": "code",
   "execution_count": 124,
   "id": "8b258e82",
   "metadata": {},
   "outputs": [],
   "source": [
    "# Adds 1 as a bias and the second one is X\n",
    "X_b = np.c_[np.ones((100, 1)), X]  # shape: (100, 2)"
   ]
  },
  {
   "cell_type": "code",
   "execution_count": 125,
   "id": "d5e6eb11",
   "metadata": {},
   "outputs": [],
   "source": [
    "true_theta = np.array([[1.0], [2.0]])  # Fixed true parameters\n",
    "z = X_b @ true_theta\n",
    "p = 1 / (1 + np.exp(-z))\n",
    "y_binary = (np.random.random((100, 1)) < p).astype(int)  # Add some randomness"
   ]
  },
  {
   "cell_type": "code",
   "execution_count": 126,
   "id": "eaacd61a",
   "metadata": {},
   "outputs": [
    {
     "name": "stdout",
     "output_type": "stream",
     "text": [
      "[[ 0.49671415]\n",
      " [-0.1382643 ]]\n"
     ]
    }
   ],
   "source": [
    "# 2. Initialize parameters\n",
    "learning_rate = 0.1\n",
    "n_iterations = 1000\n",
    "m = len(X_b)  # number of samples\n",
    "print(theta)"
   ]
  },
  {
   "cell_type": "code",
   "execution_count": 127,
   "id": "775b46fb",
   "metadata": {},
   "outputs": [],
   "source": [
    "def sigmoid(x):\n",
    "    return 1 / (1 + np.exp(-x))"
   ]
  },
  {
   "cell_type": "code",
   "execution_count": 128,
   "id": "b2f3d3d8",
   "metadata": {},
   "outputs": [],
   "source": [
    "def binary_cross_entropy(y, y_pred):\n",
    "    # Clip predictions to avoid log(0) errors\n",
    "    epsilon = 1e-15\n",
    "    y_pred = np.clip(y_pred, epsilon, 1 - epsilon)\n",
    "    m = len(y)\n",
    "    loss = -(1/m) * np.sum(y * np.log(y_pred) + (1 - y) * np.log(1 - y_pred))\n",
    "    return loss"
   ]
  },
  {
   "cell_type": "markdown",
   "id": "af84bb25",
   "metadata": {},
   "source": [
    "## Gradient Descent"
   ]
  },
  {
   "cell_type": "code",
   "execution_count": 129,
   "id": "42956eb7",
   "metadata": {},
   "outputs": [],
   "source": [
    "def batch_gradient_descent(X_b, y, learning_rate=0.1, n_iterations=1000):\n",
    "    m, n = X_b.shape\n",
    "    theta = np.random.randn(n, 1)\n",
    "    for epoch in range(n_iterations):\n",
    "        y_pred = sigmoid(X_b @ theta)\n",
    "        gradients = (1/m) * X_b.T @ (y_pred - y)\n",
    "        theta -= learning_rate * gradients\n",
    "        \n",
    "        if epoch % 100 == 0:\n",
    "            loss = -np.mean(y * np.log(y_pred + 1e-15) + (1 - y) * np.log(1 - y_pred + 1e-15))\n",
    "            print(f\"Epoch {epoch}, Loss: {loss:.4f}\")\n",
    "    return theta\n"
   ]
  },
  {
   "cell_type": "code",
   "execution_count": 130,
   "id": "aa36f92b",
   "metadata": {},
   "outputs": [],
   "source": [
    "def stochastic_gradient_descent(X_b, y, learning_rate=0.1, n_epochs=50):\n",
    "    m, n = X_b.shape\n",
    "    theta = np.random.randn(n, 1)\n",
    "    for epoch in range(n_epochs):\n",
    "        for i in range(m):\n",
    "            xi = X_b[i:i+1]\n",
    "            yi = y[i:i+1]\n",
    "            y_pred = sigmoid(xi @ theta)\n",
    "            gradients = xi.T @ (y_pred - yi)\n",
    "            theta -= learning_rate * gradients\n",
    "            \n",
    "        if epoch % 100 == 0:\n",
    "            loss = -np.mean(y * np.log(y_pred + 1e-15) + (1 - y) * np.log(1 - y_pred + 1e-15))\n",
    "            print(f\"Epoch {epoch}, Loss: {loss:.4f}\")\n",
    "    return theta\n"
   ]
  },
  {
   "cell_type": "code",
   "execution_count": 131,
   "id": "bc107074",
   "metadata": {},
   "outputs": [],
   "source": [
    "def minibatch_gradient_descent(X_b, y, learning_rate=0.1, n_epochs=1000, batch_size=32):\n",
    "    m, n = X_b.shape\n",
    "    theta = np.random.randn(n, 1)\n",
    "    for epoch in range(n_epochs):\n",
    "        indices = np.random.permutation(m)\n",
    "        X_shuffled = X_b[indices]\n",
    "        y_shuffled = y[indices]\n",
    "        \n",
    "        for i in range(0, m, batch_size):\n",
    "            xi = X_shuffled[i:i+batch_size]\n",
    "            yi = y_shuffled[i:i+batch_size]\n",
    "            y_pred = sigmoid(xi @ theta)\n",
    "            gradients = (1/len(xi)) * xi.T @ (y_pred - yi)\n",
    "            theta -= learning_rate * gradients\n",
    "\n",
    "    return theta\n"
   ]
  },
  {
   "cell_type": "code",
   "execution_count": 132,
   "id": "e2e79716",
   "metadata": {},
   "outputs": [],
   "source": [
    "def predict(X_b, theta, threshold=0.5):\n",
    "    probs = sigmoid(X_b @ theta)\n",
    "    return (probs >= threshold).astype(int)\n"
   ]
  },
  {
   "cell_type": "code",
   "execution_count": 133,
   "id": "af2785a2",
   "metadata": {},
   "outputs": [
    {
     "name": "stdout",
     "output_type": "stream",
     "text": [
      "Epoch 0, Loss: 0.8023\n",
      "Epoch 100, Loss: 0.2590\n",
      "Epoch 200, Loss: 0.2529\n",
      "Epoch 300, Loss: 0.2521\n",
      "Epoch 400, Loss: 0.2517\n",
      "Epoch 500, Loss: 0.2515\n",
      "Epoch 600, Loss: 0.2513\n",
      "Epoch 700, Loss: 0.2512\n",
      "Epoch 800, Loss: 0.2511\n",
      "Epoch 900, Loss: 0.2510\n",
      "[[1.26262449]\n",
      " [1.5064691 ]]\n"
     ]
    }
   ],
   "source": [
    "theta_batch = batch_gradient_descent(X_b, y_binary)\n",
    "print(theta_batch)"
   ]
  },
  {
   "cell_type": "code",
   "execution_count": 134,
   "id": "8d2bd58c",
   "metadata": {},
   "outputs": [
    {
     "name": "stdout",
     "output_type": "stream",
     "text": [
      "Epoch 0, Loss: 0.2790\n",
      "[[1.12731461]\n",
      " [1.70282567]]\n"
     ]
    }
   ],
   "source": [
    "theta_sgd = stochastic_gradient_descent(X_b, y_binary)\n",
    "\n",
    "print(theta_sgd)\n"
   ]
  },
  {
   "cell_type": "code",
   "execution_count": 135,
   "id": "b949167b",
   "metadata": {},
   "outputs": [
    {
     "name": "stdout",
     "output_type": "stream",
     "text": [
      "[[1.14805511]\n",
      " [1.65613539]]\n"
     ]
    }
   ],
   "source": [
    "theta_mini = minibatch_gradient_descent(X_b, y_binary)\n",
    "\n",
    "print(theta_mini)"
   ]
  },
  {
   "cell_type": "markdown",
   "id": "2e1f421a",
   "metadata": {},
   "source": [
    "## Evaluation"
   ]
  },
  {
   "cell_type": "code",
   "execution_count": 136,
   "id": "c8f4d743",
   "metadata": {},
   "outputs": [],
   "source": [
    "y_pred_batch = predict(X_b, theta_batch)\n",
    "y_pred_sgd = predict(X_b, theta_sgd)\n",
    "y_pred_mini = predict(X_b, theta_mini)"
   ]
  },
  {
   "cell_type": "code",
   "execution_count": 137,
   "id": "70f69006",
   "metadata": {},
   "outputs": [
    {
     "name": "stdout",
     "output_type": "stream",
     "text": [
      "Batch GD Accuracy: 0.9200\n",
      "SGD Accuracy: 0.9200\n",
      "Mini-batch GD Accuracy: 0.9200\n"
     ]
    }
   ],
   "source": [
    "# Calculate accuracy\n",
    "accuracy_batch = np.mean(y_pred_batch == y_binary)\n",
    "accuracy_sgd = np.mean(y_pred_sgd == y_binary)\n",
    "accuracy_mini = np.mean(y_pred_mini == y_binary)\n",
    "\n",
    "print(f\"Batch GD Accuracy: {accuracy_batch:.4f}\")\n",
    "print(f\"SGD Accuracy: {accuracy_sgd:.4f}\")\n",
    "print(f\"Mini-batch GD Accuracy: {accuracy_mini:.4f}\")"
   ]
  },
  {
   "cell_type": "code",
   "execution_count": 138,
   "id": "063e1010",
   "metadata": {},
   "outputs": [
    {
     "data": {
      "image/png": "[encoded data removed]",
      "text/plain": [
       "<Figure size 1000x600 with 1 Axes>"
      ]
     },
     "metadata": {},
     "output_type": "display_data"
    }
   ],
   "source": [
    "# 9. Plotting\n",
    "plt.figure(figsize=(10, 6))\n",
    "\n",
    "# Scatter plot of data points\n",
    "plt.scatter(X[y_binary.flatten() == 0], y_binary[y_binary.flatten() == 0], color='red', label='Class 0', alpha=0.6)\n",
    "plt.scatter(X[y_binary.flatten() == 1], y_binary[y_binary.flatten() == 1], color='blue', label='Class 1', alpha=0.6)\n",
    "\n",
    "# Generate points for smooth sigmoid curves\n",
    "x_range = np.linspace(0, 2, 200).reshape(-1, 1)\n",
    "x_range_b = np.c_[np.ones((200, 1)), x_range]\n",
    "\n",
    "# Sigmoid curves for each model\n",
    "probs_batch = sigmoid(x_range_b @ theta_batch)\n",
    "probs_sgd = sigmoid(x_range_b @ theta_sgd)\n",
    "probs_mini = sigmoid(x_range_b @ theta_mini)\n",
    "\n",
    "plt.plot(x_range, probs_batch, label='Batch GD', color='green', linewidth=2)\n",
    "plt.plot(x_range, probs_sgd, label='SGD', color='purple', linestyle='--', linewidth=2)\n",
    "plt.plot(x_range, probs_mini, label='Mini-batch GD', color='orange', linestyle='-.', linewidth=2)\n",
    "\n",
    "# Decision boundaries (where p = 0.5, i.e., theta_0 + theta_1 * x = 0)\n",
    "db_batch = -theta_batch[0] / theta_batch[1]\n",
    "db_sgd = -theta_sgd[0] / theta_sgd[1]\n",
    "db_mini = -theta_mini[0] / theta_mini[1]\n",
    "\n",
    "plt.xlabel('X')\n",
    "plt.ylabel('Probability / Class')\n",
    "plt.title('Logistic Regression: Data and Decision Boundaries')\n",
    "plt.legend()\n",
    "plt.grid(True)\n",
    "plt.show()"
   ]
  },
  {
   "cell_type": "code",
   "execution_count": null,
   "id": "6322d62d",
   "metadata": {},
   "outputs": [],
   "source": []
  }
 ],
 "metadata": {
  "kernelspec": {
   "display_name": "Python 3",
   "language": "python",
   "name": "python3"
  },
  "language_info": {
   "codemirror_mode": {
    "name": "ipython",
    "version": 3
   },
   "file_extension": ".py",
   "mimetype": "text/x-python",
   "name": "python",
   "nbconvert_exporter": "python",
   "pygments_lexer": "ipython3",
   "version": "3.10.12"
  }
 },
 "nbformat": 4,
 "nbformat_minor": 5
}
